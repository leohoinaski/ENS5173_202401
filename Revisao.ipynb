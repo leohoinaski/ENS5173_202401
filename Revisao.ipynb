{
 "cells": [
  {
   "cell_type": "code",
   "execution_count": 2,
   "id": "34a2fc6b-d509-44ab-ae0f-2bc41a271a95",
   "metadata": {},
   "outputs": [
    {
     "name": "stdout",
     "output_type": "stream",
     "text": [
      "Guilherme gente fina\n"
     ]
    }
   ],
   "source": [
    "# Tipos de variáveis - string\n",
    "a = 'Guilherme '\n",
    "b = a + 'gente fina'\n",
    "print(b)"
   ]
  },
  {
   "cell_type": "code",
   "execution_count": 4,
   "id": "b899a523-af18-47dd-8245-cd6a1029d873",
   "metadata": {},
   "outputs": [
    {
     "name": "stdout",
     "output_type": "stream",
     "text": [
      "11\n",
      "<class 'int'>\n"
     ]
    }
   ],
   "source": [
    "# Tipos de variáveis - inteira\n",
    "\n",
    "c = 1\n",
    "d = c +10\n",
    "print(d)\n",
    "print(type(d))"
   ]
  },
  {
   "cell_type": "code",
   "execution_count": 11,
   "id": "9a16a01e-ef88-479d-b99b-da05b508d165",
   "metadata": {},
   "outputs": [
    {
     "name": "stdout",
     "output_type": "stream",
     "text": [
      "valor de g = 21.0 e o valor de h = 110.25\n",
      "<class 'float'>\n",
      "Valor de f = 10 do tipo = <class 'int'>\n",
      "Valor de f = 10.0 do tipo = <class 'float'>\n"
     ]
    }
   ],
   "source": [
    "# Tipos de variáveis - float\n",
    "\n",
    "f = 10.5\n",
    "g = f*2\n",
    "h = f**2\n",
    "print('valor de g = '+str(g) + ' e o valor de h = '+ str(h))\n",
    "print(type(h))\n",
    "f = int(f)\n",
    "print('Valor de f = '+str(f)+ ' do tipo = ' + str(type(f)))\n",
    "f = float(f)\n",
    "print('Valor de f = '+str(f)+ ' do tipo = ' + str(type(f)))\n"
   ]
  },
  {
   "cell_type": "code",
   "execution_count": 19,
   "id": "37270f6b-bdb7-4317-a348-b25db7f25904",
   "metadata": {},
   "outputs": [
    {
     "name": "stdout",
     "output_type": "stream",
     "text": [
      "['Guilherme', 'Flavia', 'Lucas']\n",
      "[3, 6, 6]\n",
      "<class 'list'>\n"
     ]
    }
   ],
   "source": [
    "#Exemplo dicionário\n",
    "\n",
    "dicionario = {\n",
    "    'alunos':['Guilherme', 'Flavia', 'Lucas'],\n",
    "    'notas':[3, 6, 6]\n",
    "}\n",
    "\n",
    "print(dicionario['alunos'])\n",
    "print(dicionario['notas'])\n",
    "print(type(dicionario['notas']))"
   ]
  },
  {
   "cell_type": "code",
   "execution_count": 26,
   "id": "5a5591de-88c1-4b45-b72a-dcb4d93054eb",
   "metadata": {},
   "outputs": [
    {
     "name": "stdout",
     "output_type": "stream",
     "text": [
      "0 Guilherme nota = 3\n",
      "1 Flavia nota = 6\n",
      "2 Lucas nota = 6\n",
      " \n",
      "0 Guilherme nota = 3\n",
      "1 Flavia nota = 6\n",
      "2 Lucas nota = 6\n"
     ]
    }
   ],
   "source": [
    "# Treinando loop\n",
    "for ii,aluno in enumerate(dicionario['alunos']):\n",
    "    print(str(ii) + ' '+ aluno + ' nota = ' + str(dicionario['notas'][ii])) \n",
    "print(' ')\n",
    "for ii in range(0,len(dicionario['alunos'])):\n",
    "    print(str(ii) + ' '+ str(dicionario['alunos'][ii]) + ' nota = ' + str(dicionario['notas'][ii])) \n"
   ]
  },
  {
   "cell_type": "code",
   "execution_count": 28,
   "id": "ffc455fc-f0b4-47a8-a4f8-b8edc92cfe39",
   "metadata": {},
   "outputs": [
    {
     "name": "stdout",
     "output_type": "stream",
     "text": [
      "0 Guilherme nota = 10.0\n",
      "1 Flavia nota = 6\n",
      "2 Lucas nota = 6\n",
      " \n",
      "0 Guilherme nota = 3\n",
      "1 Flavia nota = 6\n",
      "2 Lucas nota = 10.0\n"
     ]
    }
   ],
   "source": [
    "# Treinando loop com condição\n",
    "for ii,aluno in enumerate(dicionario['alunos']):\n",
    "    if aluno=='Guilherme':\n",
    "        print(str(ii) + ' '+ aluno + ' nota = 10.0') \n",
    "    else:\n",
    "        print(str(ii) + ' '+ aluno + ' nota = ' + str(dicionario['notas'][ii])) \n",
    "\n",
    "print(' ')\n",
    "\n",
    "for ii,aluno in enumerate(dicionario['alunos']):\n",
    "    if ii==2:\n",
    "        print(str(ii) + ' '+ aluno + ' nota = 10.0') \n",
    "    else:\n",
    "        print(str(ii) + ' '+ aluno + ' nota = ' + str(dicionario['notas'][ii])) \n"
   ]
  },
  {
   "cell_type": "code",
   "execution_count": 36,
   "id": "d7a4ce83-e43b-4289-a831-acd492043755",
   "metadata": {},
   "outputs": [
    {
     "name": "stdout",
     "output_type": "stream",
     "text": [
      "False\n",
      "True\n",
      "False\n",
      "True\n",
      "True\n",
      "True\n",
      "False\n",
      "<class 'bool'>\n"
     ]
    }
   ],
   "source": [
    "# Operações lógicas\n",
    "a = 1\n",
    "b = 3\n",
    "c = 1\n",
    "print(a==b) # Igual a - operação lógica\n",
    "print(a==c)\n",
    "print(a>b) # maior que \n",
    "print(a<b) # menor que \n",
    "print(a>=c) # maior igual que \n",
    "print(a!=b) # diferente de\n",
    "print(a!=c) # diferente de\n",
    "\n",
    "opTF = a!=c\n",
    "print(type(opTF))\n",
    "\n",
    "opT = True\n",
    "opF = False"
   ]
  },
  {
   "cell_type": "code",
   "execution_count": 42,
   "id": "4b1532fa-f2b8-4e8b-ab6d-151a4817f9b7",
   "metadata": {},
   "outputs": [
    {
     "name": "stdout",
     "output_type": "stream",
     "text": [
      "False\n",
      "0 Guilherme nota = 9.5\n",
      "1 Flavia nota = 6\n",
      "2 Lucas nota = 6\n"
     ]
    }
   ],
   "source": [
    "dicionario = {\n",
    "    'alunos':['Guilherme', 'Flavia', 'Lucas'],\n",
    "    'notas':[9.5, 6, 6]\n",
    "}\n",
    "\n",
    "# Treinando loop com condição\n",
    "for ii,aluno in enumerate(dicionario['alunos']):\n",
    "    if (aluno=='Guilherme') and (dicionario['notas'][ii]<=9):\n",
    "        print(str(ii) + ' '+ aluno + ' nota = 10.0') \n",
    "    else:\n",
    "        print(str(ii) + ' '+ aluno + ' nota = ' + str(dicionario['notas'][ii])) "
   ]
  },
  {
   "cell_type": "code",
   "execution_count": 52,
   "id": "4ae9a914-c540-47db-991f-5b6f92770378",
   "metadata": {},
   "outputs": [
    {
     "name": "stdout",
     "output_type": "stream",
     "text": [
      "['Guilherme' 'Flavia' 'Lucas']\n",
      "<class 'numpy.ndarray'>\n",
      "\n",
      "[False False  True]\n",
      "(array([2], dtype=int64),)\n",
      "\n"
     ]
    },
    {
     "name": "stderr",
     "output_type": "stream",
     "text": [
      "C:\\Users\\Leonardo.Hoinaski\\AppData\\Local\\Temp\\ipykernel_15348\\2467755250.py:15: DeprecationWarning: Conversion of an array with ndim > 0 to a scalar is deprecated, and will error in future. Ensure you extract a single element from your array before performing this operation. (Deprecated NumPy 1.25.)\n",
      "  dicionario['notas'][int(np.where(mat2)[0])] = 9.5\n"
     ]
    }
   ],
   "source": [
    "# Treinando numpy\n",
    "import numpy as np\n",
    "# Convertendo para numpy\n",
    "mat = np.array(dicionario['alunos'])\n",
    "print(mat)\n",
    "print(type(mat))\n",
    "\n",
    "print('')\n",
    "mat2 = np.array(mat=='Lucas')\n",
    "print(mat2)\n",
    "# Local da matriz com valor verdadeiro\n",
    "print(np.where(mat2))\n",
    "\n",
    "print('')\n",
    "dicionario['notas'][int(np.where(mat2)[0])] = 9.5\n",
    "\n",
    "\n",
    "\n"
   ]
  },
  {
   "cell_type": "code",
   "execution_count": 55,
   "id": "77f46963-ae7a-419b-8408-0d85ffd39855",
   "metadata": {},
   "outputs": [
    {
     "name": "stdout",
     "output_type": "stream",
     "text": [
      "[9.25437068e-01 5.03080164e-01 1.87796881e-01 9.48072345e-01\n",
      " 1.53728903e-01 6.68959794e-01 6.76833041e-01 8.72850188e-01\n",
      " 8.55780114e-01 8.40088117e-01 4.85619823e-01 8.34932585e-01\n",
      " 6.69708508e-01 3.76319061e-01 1.34135427e-01 9.74969158e-01\n",
      " 4.25775375e-01 3.27152830e-02 7.58747055e-01 2.63282390e-01\n",
      " 8.16920404e-01 3.07138361e-01 2.11531916e-01 9.32311331e-01\n",
      " 9.45796495e-01 4.17057116e-02 1.48595513e-01 1.18763565e-01\n",
      " 1.17895325e-01 3.71749361e-01 3.88539034e-01 4.04867456e-01\n",
      " 8.15199135e-01 9.63393098e-01 4.22377925e-01 4.16888440e-02\n",
      " 5.07736679e-01 1.47476044e-02 5.22250674e-01 5.59974030e-01\n",
      " 9.37418658e-01 6.86953333e-01 4.99670121e-04 8.38104947e-02\n",
      " 4.34289967e-01 8.15482725e-01 5.66107779e-01 1.42101765e-01\n",
      " 4.00982255e-01 6.79176246e-01 4.52764539e-01 3.06235906e-01\n",
      " 7.25046703e-01 7.14347104e-01 9.27870351e-01 2.84399571e-01\n",
      " 8.74587173e-02 5.51336208e-01 5.07007885e-01 4.27764806e-01\n",
      " 5.48167118e-01 1.27538802e-01 8.74511772e-01 4.69649450e-01\n",
      " 1.72900579e-01 9.33053206e-02 9.09065399e-01 9.68199464e-01\n",
      " 4.43288900e-01 5.79738167e-01 9.66748572e-02 8.40950856e-01\n",
      " 7.94288942e-01 5.77980534e-01 2.71124127e-01 1.53906257e-01\n",
      " 4.45917288e-01 2.46421710e-02 8.86517909e-01 5.10170280e-01\n",
      " 9.32222593e-01 4.11509013e-01 7.70336775e-01 2.74658343e-01\n",
      " 7.33574022e-01 5.39971748e-01 4.59724480e-01 3.09628978e-02\n",
      " 4.51562358e-01 3.79675086e-01 4.04193486e-01 4.94826898e-01\n",
      " 9.26704528e-01 2.36605006e-03 6.26592519e-01 5.36815330e-01\n",
      " 8.47113474e-01 7.48561144e-01 5.00927084e-01 2.12063209e-01]\n",
      "[7.98883730e-01 4.82126359e-01 1.86694966e-01 8.12292710e-01\n",
      " 1.53124116e-01 6.20170315e-01 6.26327334e-01 7.66163707e-01\n",
      " 7.55082612e-01 7.44701932e-01 4.66756612e-01 7.41251263e-01\n",
      " 6.20757483e-01 3.67499607e-01 1.33733554e-01 8.27684580e-01\n",
      " 4.13027054e-01 3.27094475e-02 6.88012725e-01 2.60251230e-01\n",
      " 7.29041401e-01 3.02332157e-01 2.09957916e-01 8.02999591e-01\n",
      " 8.10963218e-01 4.16936224e-02 1.48049270e-01 1.18484573e-01\n",
      " 1.17622404e-01 3.63245855e-01 3.78836749e-01 3.93896935e-01\n",
      " 7.27862165e-01 8.21132859e-01 4.09930556e-01 4.16767695e-02\n",
      " 4.86200697e-01 1.47470698e-02 4.98832056e-01 5.31164195e-01\n",
      " 8.06032967e-01 6.34184502e-01 4.99670101e-04 8.37124122e-02\n",
      " 4.20766388e-01 7.28056599e-01 5.36351105e-01 1.41624006e-01\n",
      " 3.90322871e-01 6.28152282e-01 4.37453190e-01 3.01471811e-01\n",
      " 6.63170399e-01 6.55124280e-01 8.00344947e-01 2.80581192e-01\n",
      " 8.73472642e-02 5.23825912e-01 4.85563714e-01 4.14838048e-01\n",
      " 5.21123775e-01 1.27193322e-01 7.67230458e-01 4.52573718e-01\n",
      " 1.72040399e-01 9.31699953e-02 7.88929787e-01 8.23866534e-01\n",
      " 4.28912794e-01 5.47804904e-01 9.65243399e-02 7.45277444e-01\n",
      " 7.13365481e-01 5.46333612e-01 2.67814669e-01 1.53299377e-01\n",
      " 4.31285653e-01 2.46396772e-02 7.74875371e-01 4.88325850e-01\n",
      " 8.02946701e-01 3.99992821e-01 6.96376974e-01 2.71218102e-01\n",
      " 6.69528640e-01 5.14111760e-01 4.43701210e-01 3.09579507e-02\n",
      " 4.36371823e-01 3.70618714e-01 3.93277363e-01 4.74879320e-01\n",
      " 7.99645447e-01 2.36604785e-03 5.86388004e-01 5.11401870e-01\n",
      " 7.49372219e-01 6.80585260e-01 4.80238925e-01 2.10477337e-01]\n"
     ]
    }
   ],
   "source": [
    "# Matriz numpy\n",
    "\n",
    "vec = np.random.rand(100)\n",
    "print(vec)\n",
    "vec2 = np.sin(vec)\n",
    "print(vec2)\n",
    "\n"
   ]
  },
  {
   "cell_type": "code",
   "execution_count": 60,
   "id": "5076d003-c780-4e14-a95c-58d6d3f3716b",
   "metadata": {},
   "outputs": [
    {
     "name": "stdout",
     "output_type": "stream",
     "text": [
      "(100,)\n",
      "2024-01-01 00:00:00\n",
      "2024-01-02 00:00:00\n",
      "2024-01-03 00:00:00\n",
      "2024-01-04 00:00:00\n",
      "2024-01-05 00:00:00\n",
      "2024-01-06 00:00:00\n",
      "2024-01-07 00:00:00\n",
      "2024-01-08 00:00:00\n",
      "2024-01-09 00:00:00\n",
      "2024-01-10 00:00:00\n",
      "2024-01-11 00:00:00\n",
      "2024-01-12 00:00:00\n",
      "2024-01-13 00:00:00\n",
      "2024-01-14 00:00:00\n",
      "2024-01-15 00:00:00\n",
      "2024-01-16 00:00:00\n",
      "2024-01-17 00:00:00\n",
      "2024-01-18 00:00:00\n",
      "2024-01-19 00:00:00\n",
      "2024-01-20 00:00:00\n",
      "2024-01-21 00:00:00\n",
      "2024-01-22 00:00:00\n",
      "2024-01-23 00:00:00\n",
      "2024-01-24 00:00:00\n",
      "2024-01-25 00:00:00\n",
      "2024-01-26 00:00:00\n",
      "2024-01-27 00:00:00\n",
      "2024-01-28 00:00:00\n",
      "2024-01-29 00:00:00\n",
      "2024-01-30 00:00:00\n",
      "2024-01-31 00:00:00\n",
      "2024-02-01 00:00:00\n",
      "2024-02-02 00:00:00\n",
      "2024-02-03 00:00:00\n",
      "2024-02-04 00:00:00\n",
      "2024-02-05 00:00:00\n",
      "2024-02-06 00:00:00\n",
      "2024-02-07 00:00:00\n",
      "2024-02-08 00:00:00\n",
      "2024-02-09 00:00:00\n",
      "2024-02-10 00:00:00\n",
      "2024-02-11 00:00:00\n",
      "2024-02-12 00:00:00\n",
      "2024-02-13 00:00:00\n",
      "2024-02-14 00:00:00\n",
      "2024-02-15 00:00:00\n",
      "2024-02-16 00:00:00\n",
      "2024-02-17 00:00:00\n",
      "2024-02-18 00:00:00\n",
      "2024-02-19 00:00:00\n",
      "2024-02-20 00:00:00\n",
      "2024-02-21 00:00:00\n",
      "2024-02-22 00:00:00\n",
      "2024-02-23 00:00:00\n",
      "2024-02-24 00:00:00\n",
      "2024-02-25 00:00:00\n",
      "2024-02-26 00:00:00\n",
      "2024-02-27 00:00:00\n",
      "2024-02-28 00:00:00\n",
      "2024-02-29 00:00:00\n",
      "2024-03-01 00:00:00\n",
      "2024-03-02 00:00:00\n",
      "2024-03-03 00:00:00\n",
      "2024-03-04 00:00:00\n",
      "2024-03-05 00:00:00\n",
      "2024-03-06 00:00:00\n",
      "2024-03-07 00:00:00\n",
      "2024-03-08 00:00:00\n",
      "2024-03-09 00:00:00\n",
      "2024-03-10 00:00:00\n",
      "2024-03-11 00:00:00\n",
      "2024-03-12 00:00:00\n",
      "2024-03-13 00:00:00\n",
      "2024-03-14 00:00:00\n",
      "2024-03-15 00:00:00\n",
      "2024-03-16 00:00:00\n",
      "2024-03-17 00:00:00\n",
      "2024-03-18 00:00:00\n",
      "2024-03-19 00:00:00\n",
      "2024-03-20 00:00:00\n",
      "2024-03-21 00:00:00\n",
      "2024-03-22 00:00:00\n",
      "2024-03-23 00:00:00\n",
      "2024-03-24 00:00:00\n",
      "2024-03-25 00:00:00\n",
      "2024-03-26 00:00:00\n",
      "2024-03-27 00:00:00\n",
      "2024-03-28 00:00:00\n",
      "2024-03-29 00:00:00\n",
      "2024-03-30 00:00:00\n",
      "2024-03-31 00:00:00\n",
      "2024-04-01 00:00:00\n",
      "2024-04-02 00:00:00\n",
      "2024-04-03 00:00:00\n",
      "2024-04-04 00:00:00\n",
      "2024-04-05 00:00:00\n",
      "2024-04-06 00:00:00\n",
      "2024-04-07 00:00:00\n",
      "2024-04-08 00:00:00\n",
      "2024-04-09 00:00:00\n"
     ]
    }
   ],
   "source": [
    "# Datetime \n",
    "\n",
    "from datetime import datetime, timedelta\n",
    "\n",
    "# Data inicial\n",
    "start_date = datetime(2024, 1, 1)  # ano, mês, dia\n",
    "\n",
    "# Lista para armazenar as datas\n",
    "date_vector = []\n",
    "\n",
    "# Gerar datas para uma semana\n",
    "print(vec.shape)\n",
    "for i in range(0,vec.shape[0]):\n",
    "    date_vector.append(start_date + timedelta(days=i))\n",
    "\n",
    "# Exibir as datas\n",
    "for date in date_vector:\n",
    "    print(date)\n"
   ]
  },
  {
   "cell_type": "code",
   "execution_count": 63,
   "id": "7b0ec1aa-679a-4a95-9970-3432d2ad6dab",
   "metadata": {},
   "outputs": [
    {
     "name": "stdout",
     "output_type": "stream",
     "text": [
      "        datas       vec      vec2\n",
      "0  2024-01-01  0.925437  0.798884\n",
      "1  2024-01-02  0.503080  0.482126\n",
      "2  2024-01-03  0.187797  0.186695\n",
      "3  2024-01-04  0.948072  0.812293\n",
      "4  2024-01-05  0.153729  0.153124\n",
      "..        ...       ...       ...\n",
      "95 2024-04-05  0.536815  0.511402\n",
      "96 2024-04-06  0.847113  0.749372\n",
      "97 2024-04-07  0.748561  0.680585\n",
      "98 2024-04-08  0.500927  0.480239\n",
      "99 2024-04-09  0.212063  0.210477\n",
      "\n",
      "[100 rows x 3 columns]\n"
     ]
    }
   ],
   "source": [
    "# Criando dataframe e salvando\n",
    "import pandas as pd\n",
    "\n",
    "df = pd.DataFrame()\n",
    "df['datas'] = date_vector\n",
    "df['vec'] = vec\n",
    "df['vec2'] = vec2\n",
    "print(df)\n",
    "\n",
    "# Salvando em uma pasta\n",
    "pasta = r\"C:\\Users\\Leonardo.Hoinaski\\Documents\\ENS5173_202401\\tabelas\"\n",
    "df.to_csv(pasta+'/planilha.csv')"
   ]
  },
  {
   "cell_type": "code",
   "execution_count": null,
   "id": "13b4457f-2062-45f2-ab8e-91c247629b5f",
   "metadata": {},
   "outputs": [],
   "source": []
  }
 ],
 "metadata": {
  "kernelspec": {
   "display_name": "Python 3 (ipykernel)",
   "language": "python",
   "name": "python3"
  },
  "language_info": {
   "codemirror_mode": {
    "name": "ipython",
    "version": 3
   },
   "file_extension": ".py",
   "mimetype": "text/x-python",
   "name": "python",
   "nbconvert_exporter": "python",
   "pygments_lexer": "ipython3",
   "version": "3.11.8"
  }
 },
 "nbformat": 4,
 "nbformat_minor": 5
}
