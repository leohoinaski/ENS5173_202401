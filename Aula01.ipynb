{
 "cells": [
  {
   "cell_type": "markdown",
   "id": "717126d3-989d-41a7-8ea8-f9db58a22cf4",
   "metadata": {},
   "source": [
    "# Aula 03/04/2024 - Comandos básicos no Python\n",
    "\n",
    "Nesta aula aprenderemos a importar pacotes e os tipos de variáveis \\\n",
    "Desenvolvedor: Leonardo Hoinaski"
   ]
  },
  {
   "cell_type": "markdown",
   "id": "f27e1fd0-1ba7-4b93-a9f9-ac4b9139f974",
   "metadata": {},
   "source": [
    "## Tipos de variáveis "
   ]
  },
  {
   "cell_type": "code",
   "execution_count": 11,
   "id": "d36effa1-0bc2-48c5-9f21-6cfd67795999",
   "metadata": {},
   "outputs": [
    {
     "name": "stdout",
     "output_type": "stream",
     "text": [
      "a = 1\n",
      "<class 'int'>\n"
     ]
    }
   ],
   "source": [
    "# Criando variáveis inteiras\n",
    "a = 1\n",
    "print('a = '+str(a))\n",
    "print(type(a))"
   ]
  },
  {
   "cell_type": "code",
   "execution_count": 14,
   "id": "dbf858a9-662b-41a4-8f56-e7604a292174",
   "metadata": {},
   "outputs": [
    {
     "name": "stdout",
     "output_type": "stream",
     "text": [
      "Salve o Corinthians\n",
      "<class 'str'>\n"
     ]
    }
   ],
   "source": [
    "# Criando variáveis string \n",
    "b='Salve o '\n",
    "c='Corinthians'\n",
    "print(b+c)\n",
    "print(type(b))"
   ]
  },
  {
   "cell_type": "code",
   "execution_count": 15,
   "id": "f1be8227-2c6d-4591-ab68-c5bfc4e67878",
   "metadata": {},
   "outputs": [
    {
     "name": "stdout",
     "output_type": "stream",
     "text": [
      "666.666\n",
      "<class 'float'>\n"
     ]
    }
   ],
   "source": [
    "# Criando variáveis float/double precision \n",
    "d = 666.666\n",
    "print(d)\n",
    "print(type(d))"
   ]
  }
 ],
 "metadata": {
  "kernelspec": {
   "display_name": "Python 3 (ipykernel)",
   "language": "python",
   "name": "python3"
  },
  "language_info": {
   "codemirror_mode": {
    "name": "ipython",
    "version": 3
   },
   "file_extension": ".py",
   "mimetype": "text/x-python",
   "name": "python",
   "nbconvert_exporter": "python",
   "pygments_lexer": "ipython3",
   "version": "3.11.8"
  }
 },
 "nbformat": 4,
 "nbformat_minor": 5
}
