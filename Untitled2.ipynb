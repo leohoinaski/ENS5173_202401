{
 "cells": [
  {
   "cell_type": "markdown",
   "id": "1586e17a-c883-4a28-9245-f05480df013d",
   "metadata": {},
   "source": [
    "# Atividade 01 - Parte 01 - Inventário de emissões utilizando Python\n",
    "\n",
    "Aluno: Leonardo Hoinaski\n"
   ]
  },
  {
   "cell_type": "markdown",
   "id": "29e83e2a-e08f-4b9e-961a-f52fc2ed4a88",
   "metadata": {},
   "source": [
    "## Abrir planilha de fatores de emissões compilada.\n",
    "Utilizei o capítulo 11.7 da AP42, pois meu empreendimento é uma Cimenteira. \n",
    "https://www.epa.gov/sites/default/files/2020-10/documents/c11s07.pdf"
   ]
  },
  {
   "cell_type": "code",
   "execution_count": 6,
   "id": "686c7870-7b62-4de8-8f0e-9a599ed891db",
   "metadata": {},
   "outputs": [
    {
     "name": "stdout",
     "output_type": "stream",
     "text": [
      "C:\\Users\\Leonardo.Hoinaski\\Documents\\ENS5173_202401\\tabelas\\FE\n",
      "chp_11_7.csv\n",
      "                                              Source    PM  Lead   SO2   NOX  \\\n",
      "0  Comminution--raw material crushing and screeni...  0.12   NaN   NaN   NaN   \n",
      "1                                              Dryer  2.30   NaN   NaN   NaN   \n",
      "2                                             Cooler  0.11   NaN   NaN   NaN   \n",
      "3                     Firing--natural gas-fired kiln   NaN   NaN  44.0  0.54   \n",
      "\n",
      "    CO    CO2   VOC    HF  Fluorides  \n",
      "0  NaN    NaN   NaN   NaN        NaN  \n",
      "1  NaN    NaN   NaN   NaN        NaN  \n",
      "2  NaN    NaN   NaN   NaN        NaN  \n",
      "3  3.3  780.0  0.43  0.46       0.56  \n"
     ]
    }
   ],
   "source": [
    "# Utilizando Pandas para abrir a planilha\n",
    "import pandas as pd\n",
    "import os\n",
    "\n",
    "# Coletando o caminho da pasta que estou\n",
    "cwd = os.getcwd()\n",
    "\n",
    "# Pasta dos fatores de emissão\n",
    "path = cwd+'\\\\tabelas\\\\FE'\n",
    "print(path)\n",
    "\n",
    "# Indicando nome do arquivo\n",
    "chapterNumer = 11\n",
    "subChapter = 7\n",
    "file = 'chp_'+str(chapterNumer)+'_'+str(subChapter)+'.csv'\n",
    "print(file)\n",
    "\n",
    "# Abrindo arquivo utilizando o Pandas\n",
    "fe = pd.read_csv(path + '\\\\'+file)\n",
    "print(fe)"
   ]
  },
  {
   "cell_type": "code",
   "execution_count": null,
   "id": "69ae5acc-2518-421d-8dd4-37b31c49d993",
   "metadata": {},
   "outputs": [],
   "source": []
  }
 ],
 "metadata": {
  "kernelspec": {
   "display_name": "Python 3 (ipykernel)",
   "language": "python",
   "name": "python3"
  },
  "language_info": {
   "codemirror_mode": {
    "name": "ipython",
    "version": 3
   },
   "file_extension": ".py",
   "mimetype": "text/x-python",
   "name": "python",
   "nbconvert_exporter": "python",
   "pygments_lexer": "ipython3",
   "version": "3.11.8"
  }
 },
 "nbformat": 4,
 "nbformat_minor": 5
}
